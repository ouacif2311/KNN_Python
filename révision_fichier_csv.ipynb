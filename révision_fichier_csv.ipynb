{
 "cells": [
  {
   "cell_type": "code",
   "execution_count": 1,
   "metadata": {},
   "outputs": [],
   "source": [
    "import pandas as pd\n",
    "import numpy as np"
   ]
  },
  {
   "cell_type": "code",
   "execution_count": 6,
   "metadata": {},
   "outputs": [],
   "source": [
    "a = pd.read_csv('paris_airbnb.csv')"
   ]
  },
  {
   "cell_type": "code",
   "execution_count": 39,
   "metadata": {},
   "outputs": [
    {
     "data": {
      "text/html": [
       "<div>\n",
       "<style scoped>\n",
       "    .dataframe tbody tr th:only-of-type {\n",
       "        vertical-align: middle;\n",
       "    }\n",
       "\n",
       "    .dataframe tbody tr th {\n",
       "        vertical-align: top;\n",
       "    }\n",
       "\n",
       "    .dataframe thead th {\n",
       "        text-align: right;\n",
       "    }\n",
       "</style>\n",
       "<table border=\"1\" class=\"dataframe\">\n",
       "  <thead>\n",
       "    <tr style=\"text-align: right;\">\n",
       "      <th></th>\n",
       "      <th>host_response_rate</th>\n",
       "      <th>host_acceptance_rate</th>\n",
       "      <th>host_listings_count</th>\n",
       "      <th>latitude</th>\n",
       "      <th>longitude</th>\n",
       "      <th>city</th>\n",
       "      <th>zipcode</th>\n",
       "      <th>state</th>\n",
       "      <th>accommodates</th>\n",
       "      <th>room_type</th>\n",
       "      <th>bedrooms</th>\n",
       "      <th>bathrooms</th>\n",
       "      <th>beds</th>\n",
       "      <th>price</th>\n",
       "      <th>cleaning_fee</th>\n",
       "      <th>security_deposit</th>\n",
       "      <th>minimum_nights</th>\n",
       "      <th>maximum_nights</th>\n",
       "      <th>number_of_reviews</th>\n",
       "    </tr>\n",
       "  </thead>\n",
       "  <tbody>\n",
       "    <tr>\n",
       "      <th>0</th>\n",
       "      <td>100%</td>\n",
       "      <td>NaN</td>\n",
       "      <td>1.0</td>\n",
       "      <td>48.83349</td>\n",
       "      <td>2.31852</td>\n",
       "      <td>Paris</td>\n",
       "      <td>75014</td>\n",
       "      <td>Île-de-France</td>\n",
       "      <td>2</td>\n",
       "      <td>Entire home/apt</td>\n",
       "      <td>0.0</td>\n",
       "      <td>1.0</td>\n",
       "      <td>0.0</td>\n",
       "      <td>$75.00</td>\n",
       "      <td>$50.00</td>\n",
       "      <td>$0.00</td>\n",
       "      <td>3</td>\n",
       "      <td>15</td>\n",
       "      <td>8</td>\n",
       "    </tr>\n",
       "    <tr>\n",
       "      <th>1</th>\n",
       "      <td>100%</td>\n",
       "      <td>NaN</td>\n",
       "      <td>1.0</td>\n",
       "      <td>48.85100</td>\n",
       "      <td>2.35869</td>\n",
       "      <td>Paris</td>\n",
       "      <td>75004</td>\n",
       "      <td>Ile-de-France</td>\n",
       "      <td>2</td>\n",
       "      <td>Entire home/apt</td>\n",
       "      <td>0.0</td>\n",
       "      <td>1.0</td>\n",
       "      <td>1.0</td>\n",
       "      <td>$115.00</td>\n",
       "      <td>$36.00</td>\n",
       "      <td>$0.00</td>\n",
       "      <td>1</td>\n",
       "      <td>90</td>\n",
       "      <td>173</td>\n",
       "    </tr>\n",
       "    <tr>\n",
       "      <th>2</th>\n",
       "      <td>100%</td>\n",
       "      <td>NaN</td>\n",
       "      <td>2.0</td>\n",
       "      <td>48.85758</td>\n",
       "      <td>2.35275</td>\n",
       "      <td>Paris</td>\n",
       "      <td>75004</td>\n",
       "      <td>Île-de-France</td>\n",
       "      <td>4</td>\n",
       "      <td>Entire home/apt</td>\n",
       "      <td>2.0</td>\n",
       "      <td>1.0</td>\n",
       "      <td>2.0</td>\n",
       "      <td>$115.00</td>\n",
       "      <td>$50.00</td>\n",
       "      <td>$200.00</td>\n",
       "      <td>10</td>\n",
       "      <td>23</td>\n",
       "      <td>243</td>\n",
       "    </tr>\n",
       "    <tr>\n",
       "      <th>3</th>\n",
       "      <td>100%</td>\n",
       "      <td>NaN</td>\n",
       "      <td>1.0</td>\n",
       "      <td>48.86528</td>\n",
       "      <td>2.39326</td>\n",
       "      <td>Paris</td>\n",
       "      <td>75020</td>\n",
       "      <td>Ile-de-France</td>\n",
       "      <td>3</td>\n",
       "      <td>Entire home/apt</td>\n",
       "      <td>1.0</td>\n",
       "      <td>1.0</td>\n",
       "      <td>1.0</td>\n",
       "      <td>$90.00</td>\n",
       "      <td>NaN</td>\n",
       "      <td>NaN</td>\n",
       "      <td>3</td>\n",
       "      <td>365</td>\n",
       "      <td>1</td>\n",
       "    </tr>\n",
       "    <tr>\n",
       "      <th>4</th>\n",
       "      <td>67%</td>\n",
       "      <td>NaN</td>\n",
       "      <td>3.0</td>\n",
       "      <td>48.85899</td>\n",
       "      <td>2.34735</td>\n",
       "      <td>Paris</td>\n",
       "      <td>75001</td>\n",
       "      <td>Île-de-France</td>\n",
       "      <td>2</td>\n",
       "      <td>Entire home/apt</td>\n",
       "      <td>1.0</td>\n",
       "      <td>1.0</td>\n",
       "      <td>1.0</td>\n",
       "      <td>$75.00</td>\n",
       "      <td>$200.00</td>\n",
       "      <td>$1,500.00</td>\n",
       "      <td>180</td>\n",
       "      <td>365</td>\n",
       "      <td>0</td>\n",
       "    </tr>\n",
       "    <tr>\n",
       "      <th>...</th>\n",
       "      <td>...</td>\n",
       "      <td>...</td>\n",
       "      <td>...</td>\n",
       "      <td>...</td>\n",
       "      <td>...</td>\n",
       "      <td>...</td>\n",
       "      <td>...</td>\n",
       "      <td>...</td>\n",
       "      <td>...</td>\n",
       "      <td>...</td>\n",
       "      <td>...</td>\n",
       "      <td>...</td>\n",
       "      <td>...</td>\n",
       "      <td>...</td>\n",
       "      <td>...</td>\n",
       "      <td>...</td>\n",
       "      <td>...</td>\n",
       "      <td>...</td>\n",
       "      <td>...</td>\n",
       "    </tr>\n",
       "    <tr>\n",
       "      <th>7995</th>\n",
       "      <td>100%</td>\n",
       "      <td>NaN</td>\n",
       "      <td>2.0</td>\n",
       "      <td>48.87901</td>\n",
       "      <td>2.29526</td>\n",
       "      <td>Paris</td>\n",
       "      <td>75017</td>\n",
       "      <td>Île-de-France</td>\n",
       "      <td>2</td>\n",
       "      <td>Entire home/apt</td>\n",
       "      <td>0.0</td>\n",
       "      <td>1.0</td>\n",
       "      <td>1.0</td>\n",
       "      <td>$55.00</td>\n",
       "      <td>$45.00</td>\n",
       "      <td>$400.00</td>\n",
       "      <td>150</td>\n",
       "      <td>1125</td>\n",
       "      <td>0</td>\n",
       "    </tr>\n",
       "    <tr>\n",
       "      <th>7996</th>\n",
       "      <td>NaN</td>\n",
       "      <td>NaN</td>\n",
       "      <td>1.0</td>\n",
       "      <td>48.88903</td>\n",
       "      <td>2.35271</td>\n",
       "      <td>Paris</td>\n",
       "      <td>75018</td>\n",
       "      <td>Île-de-France</td>\n",
       "      <td>4</td>\n",
       "      <td>Entire home/apt</td>\n",
       "      <td>1.0</td>\n",
       "      <td>1.0</td>\n",
       "      <td>2.0</td>\n",
       "      <td>$60.00</td>\n",
       "      <td>$20.00</td>\n",
       "      <td>$100.00</td>\n",
       "      <td>3</td>\n",
       "      <td>1125</td>\n",
       "      <td>4</td>\n",
       "    </tr>\n",
       "    <tr>\n",
       "      <th>7997</th>\n",
       "      <td>100%</td>\n",
       "      <td>NaN</td>\n",
       "      <td>1.0</td>\n",
       "      <td>48.85313</td>\n",
       "      <td>2.34146</td>\n",
       "      <td>Paris</td>\n",
       "      <td>75006</td>\n",
       "      <td>Île-de-France</td>\n",
       "      <td>2</td>\n",
       "      <td>Entire home/apt</td>\n",
       "      <td>1.0</td>\n",
       "      <td>1.0</td>\n",
       "      <td>1.0</td>\n",
       "      <td>$60.00</td>\n",
       "      <td>$30.00</td>\n",
       "      <td>$0.00</td>\n",
       "      <td>2</td>\n",
       "      <td>10</td>\n",
       "      <td>25</td>\n",
       "    </tr>\n",
       "    <tr>\n",
       "      <th>7998</th>\n",
       "      <td>NaN</td>\n",
       "      <td>NaN</td>\n",
       "      <td>1.0</td>\n",
       "      <td>48.88066</td>\n",
       "      <td>2.33639</td>\n",
       "      <td>Paris</td>\n",
       "      <td>75009</td>\n",
       "      <td>Île-de-France</td>\n",
       "      <td>2</td>\n",
       "      <td>Entire home/apt</td>\n",
       "      <td>NaN</td>\n",
       "      <td>1.0</td>\n",
       "      <td>1.0</td>\n",
       "      <td>$58.00</td>\n",
       "      <td>NaN</td>\n",
       "      <td>$200.00</td>\n",
       "      <td>3</td>\n",
       "      <td>9</td>\n",
       "      <td>57</td>\n",
       "    </tr>\n",
       "    <tr>\n",
       "      <th>7999</th>\n",
       "      <td>100%</td>\n",
       "      <td>NaN</td>\n",
       "      <td>2.0</td>\n",
       "      <td>48.85760</td>\n",
       "      <td>2.39946</td>\n",
       "      <td>Paris</td>\n",
       "      <td>75020</td>\n",
       "      <td>Île-de-France</td>\n",
       "      <td>6</td>\n",
       "      <td>Entire home/apt</td>\n",
       "      <td>1.0</td>\n",
       "      <td>1.0</td>\n",
       "      <td>3.0</td>\n",
       "      <td>$40.00</td>\n",
       "      <td>$35.00</td>\n",
       "      <td>$300.00</td>\n",
       "      <td>4</td>\n",
       "      <td>1125</td>\n",
       "      <td>49</td>\n",
       "    </tr>\n",
       "  </tbody>\n",
       "</table>\n",
       "<p>8000 rows × 19 columns</p>\n",
       "</div>"
      ],
      "text/plain": [
       "     host_response_rate  host_acceptance_rate  host_listings_count  latitude  \\\n",
       "0                  100%                   NaN                  1.0  48.83349   \n",
       "1                  100%                   NaN                  1.0  48.85100   \n",
       "2                  100%                   NaN                  2.0  48.85758   \n",
       "3                  100%                   NaN                  1.0  48.86528   \n",
       "4                   67%                   NaN                  3.0  48.85899   \n",
       "...                 ...                   ...                  ...       ...   \n",
       "7995               100%                   NaN                  2.0  48.87901   \n",
       "7996                NaN                   NaN                  1.0  48.88903   \n",
       "7997               100%                   NaN                  1.0  48.85313   \n",
       "7998                NaN                   NaN                  1.0  48.88066   \n",
       "7999               100%                   NaN                  2.0  48.85760   \n",
       "\n",
       "      longitude   city zipcode          state  accommodates        room_type  \\\n",
       "0       2.31852  Paris   75014  Île-de-France             2  Entire home/apt   \n",
       "1       2.35869  Paris   75004  Ile-de-France             2  Entire home/apt   \n",
       "2       2.35275  Paris   75004  Île-de-France             4  Entire home/apt   \n",
       "3       2.39326  Paris   75020  Ile-de-France             3  Entire home/apt   \n",
       "4       2.34735  Paris   75001  Île-de-France             2  Entire home/apt   \n",
       "...         ...    ...     ...            ...           ...              ...   \n",
       "7995    2.29526  Paris   75017  Île-de-France             2  Entire home/apt   \n",
       "7996    2.35271  Paris   75018  Île-de-France             4  Entire home/apt   \n",
       "7997    2.34146  Paris   75006  Île-de-France             2  Entire home/apt   \n",
       "7998    2.33639  Paris   75009  Île-de-France             2  Entire home/apt   \n",
       "7999    2.39946  Paris   75020  Île-de-France             6  Entire home/apt   \n",
       "\n",
       "      bedrooms  bathrooms  beds    price cleaning_fee security_deposit  \\\n",
       "0          0.0        1.0   0.0   $75.00       $50.00            $0.00   \n",
       "1          0.0        1.0   1.0  $115.00       $36.00            $0.00   \n",
       "2          2.0        1.0   2.0  $115.00       $50.00          $200.00   \n",
       "3          1.0        1.0   1.0   $90.00          NaN              NaN   \n",
       "4          1.0        1.0   1.0   $75.00      $200.00        $1,500.00   \n",
       "...        ...        ...   ...      ...          ...              ...   \n",
       "7995       0.0        1.0   1.0   $55.00       $45.00          $400.00   \n",
       "7996       1.0        1.0   2.0   $60.00       $20.00          $100.00   \n",
       "7997       1.0        1.0   1.0   $60.00       $30.00            $0.00   \n",
       "7998       NaN        1.0   1.0   $58.00          NaN          $200.00   \n",
       "7999       1.0        1.0   3.0   $40.00       $35.00          $300.00   \n",
       "\n",
       "      minimum_nights  maximum_nights  number_of_reviews  \n",
       "0                  3              15                  8  \n",
       "1                  1              90                173  \n",
       "2                 10              23                243  \n",
       "3                  3             365                  1  \n",
       "4                180             365                  0  \n",
       "...              ...             ...                ...  \n",
       "7995             150            1125                  0  \n",
       "7996               3            1125                  4  \n",
       "7997               2              10                 25  \n",
       "7998               3               9                 57  \n",
       "7999               4            1125                 49  \n",
       "\n",
       "[8000 rows x 19 columns]"
      ]
     },
     "execution_count": 39,
     "metadata": {},
     "output_type": "execute_result"
    }
   ],
   "source": [
    "a"
   ]
  },
  {
   "cell_type": "code",
   "execution_count": 8,
   "metadata": {},
   "outputs": [
    {
     "data": {
      "text/plain": [
       "pandas.core.series.Series"
      ]
     },
     "execution_count": 8,
     "metadata": {},
     "output_type": "execute_result"
    }
   ],
   "source": [
    "type(a['beds'])"
   ]
  },
  {
   "cell_type": "code",
   "execution_count": 10,
   "metadata": {},
   "outputs": [
    {
     "data": {
      "text/plain": [
       "pandas.core.frame.DataFrame"
      ]
     },
     "execution_count": 10,
     "metadata": {},
     "output_type": "execute_result"
    }
   ],
   "source": [
    "type(a[['beds','bedrooms','price']])"
   ]
  },
  {
   "cell_type": "code",
   "execution_count": 13,
   "metadata": {},
   "outputs": [
    {
     "data": {
      "text/plain": [
       "beds         1.753068\n",
       "bedrooms     1.248370\n",
       "bathrooms    1.128494\n",
       "dtype: float64"
      ]
     },
     "execution_count": 13,
     "metadata": {},
     "output_type": "execute_result"
    }
   ],
   "source": [
    "a[['beds','bedrooms','bathrooms']].mean()"
   ]
  },
  {
   "cell_type": "code",
   "execution_count": 18,
   "metadata": {},
   "outputs": [
    {
     "data": {
      "text/plain": [
       "1.753067868770348"
      ]
     },
     "execution_count": 18,
     "metadata": {},
     "output_type": "execute_result"
    }
   ],
   "source": [
    "np.mean(a['beds'])"
   ]
  },
  {
   "cell_type": "code",
   "execution_count": 26,
   "metadata": {},
   "outputs": [
    {
     "name": "stdout",
     "output_type": "stream",
     "text": [
      "accommodates\n",
      "minimum_nights\n",
      "maximum_nights\n",
      "number_of_reviews\n"
     ]
    }
   ],
   "source": [
    "a_cols1 = a.select_dtypes(include = ['int']).columns.to_list()\n",
    "for col1 in a_cols1 :\n",
    "    print(col1)"
   ]
  },
  {
   "cell_type": "code",
   "execution_count": 28,
   "metadata": {},
   "outputs": [
    {
     "name": "stdout",
     "output_type": "stream",
     "text": [
      "la moyenne de la colonne accommodates: 3.19875\n",
      "la moyenne de la colonne minimum_nights: 8.759375\n",
      "la moyenne de la colonne maximum_nights: 546.876\n",
      "la moyenne de la colonne number_of_reviews: 44.874875\n"
     ]
    }
   ],
   "source": [
    "for col1 in a_cols1 :\n",
    "    m1 = np.mean(a[col1])\n",
    "    print('la moyenne de la colonne'+' ' + col1 + ':', m1)"
   ]
  },
  {
   "cell_type": "code",
   "execution_count": 24,
   "metadata": {},
   "outputs": [
    {
     "name": "stdout",
     "output_type": "stream",
     "text": [
      "host_acceptance_rate\n",
      "host_listings_count\n",
      "latitude\n",
      "longitude\n",
      "bedrooms\n",
      "bathrooms\n",
      "beds\n"
     ]
    }
   ],
   "source": [
    "a_cols=a.select_dtypes(include = ['float']).columns.to_list()\n",
    "for col in a_cols :\n",
    "    print(col)"
   ]
  },
  {
   "cell_type": "code",
   "execution_count": 29,
   "metadata": {},
   "outputs": [
    {
     "name": "stdout",
     "output_type": "stream",
     "text": [
      "moyenne de la colonne host_acceptance_rate: nan\n",
      "moyenne de la colonne host_listings_count: 7.025878234779348\n",
      "moyenne de la colonne latitude: 48.86456040249989\n",
      "moyenne de la colonne longitude: 2.3487392574999952\n",
      "moyenne de la colonne bedrooms: 1.248370110330993\n",
      "moyenne de la colonne bathrooms: 1.12849408209519\n",
      "moyenne de la colonne beds: 1.753067868770348\n"
     ]
    }
   ],
   "source": [
    "for col in a_cols :\n",
    "    m = np.mean(a[col])\n",
    "    print('moyenne de la colonne'+' ' + col + ':' ,m)"
   ]
  },
  {
   "cell_type": "code",
   "execution_count": null,
   "metadata": {},
   "outputs": [],
   "source": []
  }
 ],
 "metadata": {
  "kernelspec": {
   "display_name": "Python 3",
   "language": "python",
   "name": "python3"
  },
  "language_info": {
   "codemirror_mode": {
    "name": "ipython",
    "version": 3
   },
   "file_extension": ".py",
   "mimetype": "text/x-python",
   "name": "python",
   "nbconvert_exporter": "python",
   "pygments_lexer": "ipython3",
   "version": "3.7.9"
  },
  "toc": {
   "base_numbering": 1,
   "nav_menu": {},
   "number_sections": false,
   "sideBar": false,
   "skip_h1_title": false,
   "title_cell": "Table of Contents",
   "title_sidebar": "Contents",
   "toc_cell": false,
   "toc_position": {},
   "toc_section_display": false,
   "toc_window_display": false
  }
 },
 "nbformat": 4,
 "nbformat_minor": 4
}
