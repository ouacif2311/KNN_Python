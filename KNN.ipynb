{
 "cells": [
  {
   "cell_type": "code",
   "execution_count": 1,
   "metadata": {},
   "outputs": [],
   "source": [
    "import numpy as np\n",
    "import pandas as pd"
   ]
  },
  {
   "cell_type": "markdown",
   "metadata": {},
   "source": [
    "###  Fonction de prédiction KNN :"
   ]
  },
  {
   "cell_type": "code",
   "execution_count": 2,
   "metadata": {},
   "outputs": [
    {
     "name": "stdout",
     "output_type": "stream",
     "text": [
      "64.88999938964844\n",
      "82.61000061035156\n",
      "101.3499984741211\n",
      "126.586669921875\n",
      "43.83414703369141\n",
      "5913.683659442962\n",
      "76.9004789285669\n"
     ]
    }
   ],
   "source": [
    "pd.options.mode.chained_assignment = None\n",
    "np.random.seed(1)\n",
    "\n",
    "df_airbnb_paris = pd.read_csv('paris_airbnb.csv')      ### lire le fichier .csv  ###\n",
    "#x = (len(df_airbnb_paris * 75/100))\n",
    "#print(x)\n",
    "sup_virgule = df_airbnb_paris['price'].str.replace(',','')    ###  replace la virgule par un vide  ###\n",
    "sup_dollars = sup_virgule.str.replace('$','')         ###  replace le signe $ par un vide  ###\n",
    "df_airbnb_paris['price'] = pd.to_numeric(sup_dollars, downcast = 'float')  ###  \n",
    "df_airbnb_paris = df_airbnb_paris.loc[np.random.permutation(len(df_airbnb_paris))]\n",
    "train_df = df_airbnb_paris.iloc[0:6000]\n",
    "test_df = df_airbnb_paris.iloc[6000:]\n",
    "def predict_prix (k):\n",
    "    tmp = train_df.copy()\n",
    "    tmp['distance'] = tmp['accommodates'].apply(lambda x: np.abs(x - k))\n",
    "    tmp = tmp.sort_values('distance')\n",
    "    nearest_neighbors = tmp.iloc[0 : 300]['price']\n",
    "    prix_predit = nearest_neighbors.mean()\n",
    "    \n",
    "    return prix_predit\n",
    "\n",
    "p1 = predict_prix(1)\n",
    "p2 = predict_prix(2)\n",
    "p3 = predict_prix(3)\n",
    "p4 = predict_prix(4)\n",
    "\n",
    "print(p1);print(p2);print(p3);print(p4)\n",
    "\n",
    "test_df['prix_predit'] = test_df['accommodates'].apply(lambda x: predict_prix(x))\n",
    "#test_df.head()\n",
    "test_df['erreur'] = np.absolute(test_df['prix_predit'] - test_df['price']) ## pour calculer erreur absolue moyenne ##\n",
    "MAE = test_df['erreur'].mean()\n",
    "print(MAE)\n",
    "\n",
    "test_df['erreur_quadratique'] = (test_df['prix_predit']- test_df ['price']) ** 2\n",
    "MSE = test_df['erreur_quadratique'].mean()\n",
    "RMSE = MSE **(1/2)\n",
    "print(MSE)\n",
    "print(RMSE)"
   ]
  },
  {
   "cell_type": "markdown",
   "metadata": {},
   "source": [
    "##  Modèle multivariée des K plus proche voisin\n",
    "### 1° : Suprimer des caractéristiques"
   ]
  },
  {
   "cell_type": "code",
   "execution_count": 3,
   "metadata": {},
   "outputs": [
    {
     "name": "stdout",
     "output_type": "stream",
     "text": [
      "<class 'pandas.core.frame.DataFrame'>\n",
      "Int64Index: 8000 entries, 4740 to 5157\n",
      "Data columns (total 19 columns):\n",
      " #   Column                Non-Null Count  Dtype  \n",
      "---  ------                --------------  -----  \n",
      " 0   host_response_rate    5000 non-null   object \n",
      " 1   host_acceptance_rate  0 non-null      float64\n",
      " 2   host_listings_count   7999 non-null   float64\n",
      " 3   latitude              8000 non-null   float64\n",
      " 4   longitude             8000 non-null   float64\n",
      " 5   city                  7997 non-null   object \n",
      " 6   zipcode               7930 non-null   object \n",
      " 7   state                 7977 non-null   object \n",
      " 8   accommodates          8000 non-null   int64  \n",
      " 9   room_type             8000 non-null   object \n",
      " 10  bedrooms              7976 non-null   float64\n",
      " 11  bathrooms             7942 non-null   float64\n",
      " 12  beds                  7986 non-null   float64\n",
      " 13  price                 8000 non-null   float32\n",
      " 14  cleaning_fee          6250 non-null   object \n",
      " 15  security_deposit      6320 non-null   object \n",
      " 16  minimum_nights        8000 non-null   int64  \n",
      " 17  maximum_nights        8000 non-null   int64  \n",
      " 18  number_of_reviews     8000 non-null   int64  \n",
      "dtypes: float32(1), float64(7), int64(4), object(7)\n",
      "memory usage: 1.2+ MB\n"
     ]
    }
   ],
   "source": [
    "df_airbnb_paris.info()"
   ]
  },
  {
   "cell_type": "code",
   "execution_count": 4,
   "metadata": {},
   "outputs": [
    {
     "name": "stdout",
     "output_type": "stream",
     "text": [
      "accommodates            0\n",
      "bedrooms               24\n",
      "bathrooms              58\n",
      "beds                   14\n",
      "price                   0\n",
      "cleaning_fee         1750\n",
      "security_deposit     1680\n",
      "minimum_nights          0\n",
      "maximum_nights          0\n",
      "number_of_reviews       0\n",
      "dtype: int64\n"
     ]
    }
   ],
   "source": [
    "drop_colonne = ['host_response_rate','host_acceptance_rate','host_listings_count','latitude','longitude','city','zipcode','state','room_type']\n",
    "df_airbnb_paris = df_airbnb_paris.drop(drop_colonne,axis=1) # supprimer les 9 colonnes de dataframes \n",
    "print(df_airbnb_paris.isnull().sum()) ## isnull()il determine si y a la valeur null; sum()il va sommer les valeur manquante"
   ]
  },
  {
   "cell_type": "markdown",
   "metadata": {},
   "source": [
    "### 2°: Gérer les valeurs manquantes:"
   ]
  },
  {
   "cell_type": "code",
   "execution_count": 5,
   "metadata": {},
   "outputs": [
    {
     "name": "stdout",
     "output_type": "stream",
     "text": [
      "accommodates         0\n",
      "bedrooms             0\n",
      "bathrooms            0\n",
      "beds                 0\n",
      "price                0\n",
      "minimum_nights       0\n",
      "maximum_nights       0\n",
      "number_of_reviews    0\n",
      "dtype: int64\n",
      "\n"
     ]
    },
    {
     "data": {
      "text/html": [
       "<div>\n",
       "<style scoped>\n",
       "    .dataframe tbody tr th:only-of-type {\n",
       "        vertical-align: middle;\n",
       "    }\n",
       "\n",
       "    .dataframe tbody tr th {\n",
       "        vertical-align: top;\n",
       "    }\n",
       "\n",
       "    .dataframe thead th {\n",
       "        text-align: right;\n",
       "    }\n",
       "</style>\n",
       "<table border=\"1\" class=\"dataframe\">\n",
       "  <thead>\n",
       "    <tr style=\"text-align: right;\">\n",
       "      <th></th>\n",
       "      <th>accommodates</th>\n",
       "      <th>bedrooms</th>\n",
       "      <th>bathrooms</th>\n",
       "      <th>beds</th>\n",
       "      <th>price</th>\n",
       "      <th>minimum_nights</th>\n",
       "      <th>maximum_nights</th>\n",
       "      <th>number_of_reviews</th>\n",
       "    </tr>\n",
       "  </thead>\n",
       "  <tbody>\n",
       "    <tr>\n",
       "      <th>4740</th>\n",
       "      <td>4</td>\n",
       "      <td>1.0</td>\n",
       "      <td>1.0</td>\n",
       "      <td>2.0</td>\n",
       "      <td>65.0</td>\n",
       "      <td>2</td>\n",
       "      <td>1125</td>\n",
       "      <td>6</td>\n",
       "    </tr>\n",
       "    <tr>\n",
       "      <th>5606</th>\n",
       "      <td>3</td>\n",
       "      <td>2.0</td>\n",
       "      <td>1.5</td>\n",
       "      <td>2.0</td>\n",
       "      <td>98.0</td>\n",
       "      <td>5</td>\n",
       "      <td>1124</td>\n",
       "      <td>1</td>\n",
       "    </tr>\n",
       "    <tr>\n",
       "      <th>4824</th>\n",
       "      <td>2</td>\n",
       "      <td>0.0</td>\n",
       "      <td>1.0</td>\n",
       "      <td>1.0</td>\n",
       "      <td>65.0</td>\n",
       "      <td>10</td>\n",
       "      <td>1125</td>\n",
       "      <td>0</td>\n",
       "    </tr>\n",
       "    <tr>\n",
       "      <th>4205</th>\n",
       "      <td>2</td>\n",
       "      <td>1.0</td>\n",
       "      <td>1.0</td>\n",
       "      <td>1.0</td>\n",
       "      <td>45.0</td>\n",
       "      <td>5</td>\n",
       "      <td>1125</td>\n",
       "      <td>83</td>\n",
       "    </tr>\n",
       "    <tr>\n",
       "      <th>3228</th>\n",
       "      <td>3</td>\n",
       "      <td>1.0</td>\n",
       "      <td>1.0</td>\n",
       "      <td>2.0</td>\n",
       "      <td>65.0</td>\n",
       "      <td>5</td>\n",
       "      <td>365</td>\n",
       "      <td>5</td>\n",
       "    </tr>\n",
       "    <tr>\n",
       "      <th>2745</th>\n",
       "      <td>4</td>\n",
       "      <td>1.0</td>\n",
       "      <td>1.0</td>\n",
       "      <td>2.0</td>\n",
       "      <td>88.0</td>\n",
       "      <td>3</td>\n",
       "      <td>30</td>\n",
       "      <td>120</td>\n",
       "    </tr>\n",
       "  </tbody>\n",
       "</table>\n",
       "</div>"
      ],
      "text/plain": [
       "      accommodates  bedrooms  bathrooms  beds  price  minimum_nights  \\\n",
       "4740             4       1.0        1.0   2.0   65.0               2   \n",
       "5606             3       2.0        1.5   2.0   98.0               5   \n",
       "4824             2       0.0        1.0   1.0   65.0              10   \n",
       "4205             2       1.0        1.0   1.0   45.0               5   \n",
       "3228             3       1.0        1.0   2.0   65.0               5   \n",
       "2745             4       1.0        1.0   2.0   88.0               3   \n",
       "\n",
       "      maximum_nights  number_of_reviews  \n",
       "4740            1125                  6  \n",
       "5606            1124                  1  \n",
       "4824            1125                  0  \n",
       "4205            1125                 83  \n",
       "3228             365                  5  \n",
       "2745              30                120  "
      ]
     },
     "execution_count": 5,
     "metadata": {},
     "output_type": "execute_result"
    }
   ],
   "source": [
    "supp_collone = ['cleaning_fee','security_deposit'] # suppression des colonnes qui ont bcp de valeur manquante\n",
    "df_airbnb_paris = df_airbnb_paris.drop(supp_collone,axis=1)\n",
    "df_airbnb_paris = df_airbnb_paris.dropna(axis=0) # suppression des lignes qui contient les valeurs manquante\n",
    "print(df_airbnb_paris.isnull().sum())\n",
    "print()\n",
    "df_airbnb_paris.head(6)"
   ]
  },
  {
   "cell_type": "markdown",
   "metadata": {},
   "source": [
    "### 3°: Normaliser les colonnes:"
   ]
  },
  {
   "cell_type": "code",
   "execution_count": 6,
   "metadata": {},
   "outputs": [
    {
     "data": {
      "text/html": [
       "<div>\n",
       "<style scoped>\n",
       "    .dataframe tbody tr th:only-of-type {\n",
       "        vertical-align: middle;\n",
       "    }\n",
       "\n",
       "    .dataframe tbody tr th {\n",
       "        vertical-align: top;\n",
       "    }\n",
       "\n",
       "    .dataframe thead th {\n",
       "        text-align: right;\n",
       "    }\n",
       "</style>\n",
       "<table border=\"1\" class=\"dataframe\">\n",
       "  <thead>\n",
       "    <tr style=\"text-align: right;\">\n",
       "      <th></th>\n",
       "      <th>accommodates</th>\n",
       "      <th>bedrooms</th>\n",
       "      <th>bathrooms</th>\n",
       "      <th>beds</th>\n",
       "      <th>price</th>\n",
       "      <th>minimum_nights</th>\n",
       "      <th>maximum_nights</th>\n",
       "      <th>number_of_reviews</th>\n",
       "    </tr>\n",
       "  </thead>\n",
       "  <tbody>\n",
       "    <tr>\n",
       "      <th>4740</th>\n",
       "      <td>0.503868</td>\n",
       "      <td>-0.296884</td>\n",
       "      <td>-0.293537</td>\n",
       "      <td>0.20531</td>\n",
       "      <td>65.0</td>\n",
       "      <td>-0.184601</td>\n",
       "      <td>1.062858</td>\n",
       "      <td>-0.564545</td>\n",
       "    </tr>\n",
       "    <tr>\n",
       "      <th>5606</th>\n",
       "      <td>-0.131849</td>\n",
       "      <td>0.892605</td>\n",
       "      <td>0.843973</td>\n",
       "      <td>0.20531</td>\n",
       "      <td>98.0</td>\n",
       "      <td>-0.101183</td>\n",
       "      <td>1.061018</td>\n",
       "      <td>-0.636924</td>\n",
       "    </tr>\n",
       "    <tr>\n",
       "      <th>4824</th>\n",
       "      <td>-0.767566</td>\n",
       "      <td>-1.486372</td>\n",
       "      <td>-0.293537</td>\n",
       "      <td>-0.64526</td>\n",
       "      <td>65.0</td>\n",
       "      <td>0.037847</td>\n",
       "      <td>1.062858</td>\n",
       "      <td>-0.651400</td>\n",
       "    </tr>\n",
       "    <tr>\n",
       "      <th>4205</th>\n",
       "      <td>-0.767566</td>\n",
       "      <td>-0.296884</td>\n",
       "      <td>-0.293537</td>\n",
       "      <td>-0.64526</td>\n",
       "      <td>45.0</td>\n",
       "      <td>-0.101183</td>\n",
       "      <td>1.062858</td>\n",
       "      <td>0.550105</td>\n",
       "    </tr>\n",
       "    <tr>\n",
       "      <th>3228</th>\n",
       "      <td>-0.131849</td>\n",
       "      <td>-0.296884</td>\n",
       "      <td>-0.293537</td>\n",
       "      <td>0.20531</td>\n",
       "      <td>65.0</td>\n",
       "      <td>-0.101183</td>\n",
       "      <td>-0.335685</td>\n",
       "      <td>-0.579021</td>\n",
       "    </tr>\n",
       "    <tr>\n",
       "      <th>2745</th>\n",
       "      <td>0.503868</td>\n",
       "      <td>-0.296884</td>\n",
       "      <td>-0.293537</td>\n",
       "      <td>0.20531</td>\n",
       "      <td>88.0</td>\n",
       "      <td>-0.156795</td>\n",
       "      <td>-0.952148</td>\n",
       "      <td>1.085716</td>\n",
       "    </tr>\n",
       "  </tbody>\n",
       "</table>\n",
       "</div>"
      ],
      "text/plain": [
       "      accommodates  bedrooms  bathrooms     beds  price  minimum_nights  \\\n",
       "4740      0.503868 -0.296884  -0.293537  0.20531   65.0       -0.184601   \n",
       "5606     -0.131849  0.892605   0.843973  0.20531   98.0       -0.101183   \n",
       "4824     -0.767566 -1.486372  -0.293537 -0.64526   65.0        0.037847   \n",
       "4205     -0.767566 -0.296884  -0.293537 -0.64526   45.0       -0.101183   \n",
       "3228     -0.131849 -0.296884  -0.293537  0.20531   65.0       -0.101183   \n",
       "2745      0.503868 -0.296884  -0.293537  0.20531   88.0       -0.156795   \n",
       "\n",
       "      maximum_nights  number_of_reviews  \n",
       "4740        1.062858          -0.564545  \n",
       "5606        1.061018          -0.636924  \n",
       "4824        1.062858          -0.651400  \n",
       "4205        1.062858           0.550105  \n",
       "3228       -0.335685          -0.579021  \n",
       "2745       -0.952148           1.085716  "
      ]
     },
     "execution_count": 6,
     "metadata": {},
     "output_type": "execute_result"
    }
   ],
   "source": [
    "normalisation_airbnb_paris = (df_airbnb_paris - df_airbnb_paris.mean())/df_airbnb_paris.std()\n",
    "normalisation_airbnb_paris['price'] = df_airbnb_paris['price']\n",
    "normalisation_airbnb_paris.head(6)"
   ]
  },
  {
   "cell_type": "markdown",
   "metadata": {},
   "source": [
    "### 4°: distance euclidienne pour le cas multivarié"
   ]
  },
  {
   "cell_type": "code",
   "execution_count": 7,
   "metadata": {},
   "outputs": [
    {
     "name": "stdout",
     "output_type": "stream",
     "text": [
      "0.6357172321498359\n"
     ]
    }
   ],
   "source": [
    "from scipy.spatial import distance\n",
    "l1_normalise = normalisation_airbnb_paris.iloc[0][['accommodates','bedrooms']]\n",
    "l2_normalise = normalisation_airbnb_paris.iloc[4][['accommodates','bedrooms']]\n",
    "dist = distance.euclidean(l1_normalise,l2_normalise)\n",
    "print(dist)"
   ]
  },
  {
   "cell_type": "markdown",
   "metadata": {},
   "source": [
    "# Scikit_learn\n",
    "\n",
    "## classe KneighborsRegresors\n",
    "###  1°: Adapter le modèle et faire des prédiction"
   ]
  },
  {
   "cell_type": "code",
   "execution_count": 12,
   "metadata": {},
   "outputs": [
    {
     "data": {
      "text/plain": [
       "array([ 90.2,  90.2,  90.2, ...,  90.2, 141.8,  90.2], dtype=float32)"
      ]
     },
     "execution_count": 12,
     "metadata": {},
     "output_type": "execute_result"
    }
   ],
   "source": [
    "from sklearn.neighbors import KNeighborsRegressor\n",
    "knn = KNeighborsRegressor(n_neighbors=5,algorithm='brute') ## instancier le modèle\n",
    "\n",
    "\n",
    "\n",
    "train_df = normalisation_airbnb_paris.iloc[0:6000]\n",
    "test_df = normalisation_airbnb_paris.iloc[6000:]\n",
    "\n",
    "train_colonne =train_df[['accommodates','bedrooms','bathrooms','number_of_reviews','beds']]\n",
    "\n",
    "colonne_cible = train_df['price']\n",
    "knn.fit(train_colonne,colonne_cible)\n",
    "\n",
    "test_colonne = test_df[['accommodates','bedrooms','bathrooms','number_of_reviews','beds']]\n",
    "predict = knn.predict(test_colonne) \n",
    "predict"
   ]
  },
  {
   "cell_type": "markdown",
   "metadata": {},
   "source": [
    "### 2°: calcule de l'erreur quadratique moyenne"
   ]
  },
  {
   "cell_type": "code",
   "execution_count": 13,
   "metadata": {},
   "outputs": [
    {
     "name": "stdout",
     "output_type": "stream",
     "text": [
      "7744.82\n",
      "88.00465796887543\n"
     ]
    }
   ],
   "source": [
    "from sklearn.metrics import mean_squared_error\n",
    "a = test_df['price'].to_numpy()\n",
    "sk_mse = mean_squared_error(a,predict)\n",
    "sk_rmse = sk_mse**(1/2)\n",
    "print(sk_mse)\n",
    "print(sk_rmse)"
   ]
  },
  {
   "cell_type": "code",
   "execution_count": null,
   "metadata": {},
   "outputs": [],
   "source": []
  }
 ],
 "metadata": {
  "kernelspec": {
   "display_name": "Python 3",
   "language": "python",
   "name": "python3"
  },
  "language_info": {
   "codemirror_mode": {
    "name": "ipython",
    "version": 3
   },
   "file_extension": ".py",
   "mimetype": "text/x-python",
   "name": "python",
   "nbconvert_exporter": "python",
   "pygments_lexer": "ipython3",
   "version": "3.7.9"
  },
  "toc": {
   "base_numbering": 1,
   "nav_menu": {},
   "number_sections": false,
   "sideBar": false,
   "skip_h1_title": false,
   "title_cell": "Table of Contents",
   "title_sidebar": "Contents",
   "toc_cell": false,
   "toc_position": {},
   "toc_section_display": false,
   "toc_window_display": false
  }
 },
 "nbformat": 4,
 "nbformat_minor": 4
}
